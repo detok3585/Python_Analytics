{
  "nbformat": 4,
  "nbformat_minor": 0,
  "metadata": {
    "colab": {
      "name": "Untitled3.ipynb",
      "provenance": [],
      "authorship_tag": "ABX9TyNraWSLxygG+sX4jFZPhlMk",
      "include_colab_link": true
    },
    "kernelspec": {
      "name": "python3",
      "display_name": "Python 3"
    },
    "language_info": {
      "name": "python"
    }
  },
  "cells": [
    {
      "cell_type": "markdown",
      "metadata": {
        "id": "view-in-github",
        "colab_type": "text"
      },
      "source": [
        "<a href=\"https://colab.research.google.com/github/detok3585/Python_Analytics/blob/main/lee_day1.ipynb\" target=\"_parent\"><img src=\"https://colab.research.google.com/assets/colab-badge.svg\" alt=\"Open In Colab\"/></a>"
      ]
    },
    {
      "cell_type": "markdown",
      "metadata": {
        "id": "zrwZzxsIdmH7"
      },
      "source": [
        "\n",
        "1.\n",
        "0부터 10까지의 난수를 이용하여 3*3 생성\n",
        "\n"
      ]
    },
    {
      "cell_type": "code",
      "metadata": {
        "colab": {
          "base_uri": "https://localhost:8080/",
          "height": 222
        },
        "id": "m9sgwJcCdsUA",
        "outputId": "baca7375-73f4-4b8c-b0b4-0f51c2424118"
      },
      "source": [
        "import random as rd\n",
        "\n",
        "ran = rd.randomrange(0,10)\n",
        "ran"
      ],
      "execution_count": 1,
      "outputs": [
        {
          "output_type": "error",
          "ename": "AttributeError",
          "evalue": "ignored",
          "traceback": [
            "\u001b[0;31m---------------------------------------------------------------------------\u001b[0m",
            "\u001b[0;31mAttributeError\u001b[0m                            Traceback (most recent call last)",
            "\u001b[0;32m<ipython-input-1-1208e17345f5>\u001b[0m in \u001b[0;36m<module>\u001b[0;34m()\u001b[0m\n\u001b[1;32m      1\u001b[0m \u001b[0;32mimport\u001b[0m \u001b[0mrandom\u001b[0m \u001b[0;32mas\u001b[0m \u001b[0mrd\u001b[0m\u001b[0;34m\u001b[0m\u001b[0;34m\u001b[0m\u001b[0m\n\u001b[1;32m      2\u001b[0m \u001b[0;34m\u001b[0m\u001b[0m\n\u001b[0;32m----> 3\u001b[0;31m \u001b[0mran\u001b[0m \u001b[0;34m=\u001b[0m \u001b[0mrd\u001b[0m\u001b[0;34m.\u001b[0m\u001b[0mrandomrange\u001b[0m\u001b[0;34m(\u001b[0m\u001b[0;36m0\u001b[0m\u001b[0;34m,\u001b[0m\u001b[0;36m10\u001b[0m\u001b[0;34m)\u001b[0m\u001b[0;34m\u001b[0m\u001b[0;34m\u001b[0m\u001b[0m\n\u001b[0m\u001b[1;32m      4\u001b[0m \u001b[0mran\u001b[0m\u001b[0;34m\u001b[0m\u001b[0;34m\u001b[0m\u001b[0m\n",
            "\u001b[0;31mAttributeError\u001b[0m: module 'random' has no attribute 'randomrange'"
          ]
        }
      ]
    },
    {
      "cell_type": "markdown",
      "metadata": {
        "id": "FVwxL16TdrNs"
      },
      "source": [
        "\n",
        "2.\n",
        "평균이 0 이고, 표준편차가 1인 3*3 난수 정규분포를 생성\n",
        "\n",
        "3.\n",
        "1부터 12까지의 수로 이루어진 1차원(1*12) -> 2차원(3*4)로 변경\n",
        "\n",
        "4.\n",
        "arr = [[1, 2, 3],\n",
        "       [4, 5, 6]]\n",
        "을 사용하여       \n",
        "[[1, 2, 3, 1, 2, 3],\n",
        " [4, 5, 6, 4, 5, 6]]\n",
        "형태로 만들어라\n",
        "\n",
        "============\n",
        "arr2 =\n",
        "[[1, 2, 3],\n",
        " [2, 2, 2],\n",
        " [3, 2, 1]]\n",
        "=============\n",
        "\n",
        "6. arr2 각 행을 더한 1차원 배열 생성\n",
        "7. arr2 각 열별 [최대값, 최솟값] 배열 생성\n",
        "\n",
        "8. 0 부터 1까지를 5개로 나누어 출력하라. (ex) [0, 0.25, 0.5, 0.75, 1] )\n",
        "\n",
        "=================\n",
        "df1 = \n",
        "     0    1    2\n",
        "0 |  1    2    3\n",
        "1 |  4    5    6\n",
        "2 | NaN   8    9\n",
        "3 | 10   NaN   12\n",
        "=================\n",
        "\n",
        "9. df1에서 NaN값이 있는 행을 제거하여 출력\n",
        "10. df1에서 NaN값을 평균으로 대체하여 출력\n",
        "\n",
        "==========================================================================\n",
        "df2 = pd.DataFrame({'name': ['이순신', '강감찬', '을지문덕', '김유신'],\n",
        "                    'dept': ['연구개발', '영업', '연구개발', '인사']}\n",
        "                    \n",
        "df3 = pd.DataFrame({'emp_name': ['이순신', '강감찬', '을지문덕', '김유신'],\n",
        "                    'project': ['S', 'D', 'A', 'S']}\n",
        "===========================================================================\n",
        "\n",
        "11. df2와 df3 을 df2의 name과 df3의 emp_name을 사용하여 inner Join\n",
        "12. df2와 df3 을 df2의 name과 df3의 emp_name을 사용하여 outer Join \n",
        "\n",
        "======================================\n",
        "seaborn 타이타닉 데이터 셋을 사용\n",
        "import seaborn as sb\n",
        "titanic = sb.load_dataset(\"titanic\")\n",
        "======================================\n",
        "\n",
        "13. 성별을 그룹화하여, 각 성별 생존여부 평균을 구하라.\n",
        "14. 성별(행)과 클래스(열)로 그룹화하여, 생존여부 평균을 구하라."
      ]
    }
  ]
}