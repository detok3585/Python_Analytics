{
  "nbformat": 4,
  "nbformat_minor": 0,
  "metadata": {
    "colab": {
      "name": "lee_day1.ipynb",
      "provenance": [],
      "collapsed_sections": [],
      "authorship_tag": "ABX9TyN6ZH5/T77KCnbbY1i3vPJo",
      "include_colab_link": true
    },
    "kernelspec": {
      "name": "python3",
      "display_name": "Python 3"
    },
    "language_info": {
      "name": "python"
    }
  },
  "cells": [
    {
      "cell_type": "markdown",
      "metadata": {
        "id": "view-in-github",
        "colab_type": "text"
      },
      "source": [
        "<a href=\"https://colab.research.google.com/github/detok3585/Python_Analytics/blob/main/lee_day1.ipynb\" target=\"_parent\"><img src=\"https://colab.research.google.com/assets/colab-badge.svg\" alt=\"Open In Colab\"/></a>"
      ]
    },
    {
      "cell_type": "markdown",
      "metadata": {
        "id": "zrwZzxsIdmH7"
      },
      "source": [
        "\n",
        "1.\n",
        "0부터 10까지의 난수를 이용하여 3*3 생성\n",
        "\n"
      ]
    },
    {
      "cell_type": "code",
      "metadata": {
        "colab": {
          "base_uri": "https://localhost:8080/"
        },
        "id": "m9sgwJcCdsUA",
        "outputId": "220fb268-5500-4e25-f509-2ca28c589e10"
      },
      "source": [
        "import numpy as np\n",
        "\n",
        "#np.randomseed(19940119)\n",
        "x = np.random.randint(0,11,(3,3))\n",
        "x"
      ],
      "execution_count": 16,
      "outputs": [
        {
          "output_type": "execute_result",
          "data": {
            "text/plain": [
              "array([[1, 4, 2],\n",
              "       [5, 9, 6],\n",
              "       [0, 0, 9]])"
            ]
          },
          "metadata": {
            "tags": []
          },
          "execution_count": 16
        }
      ]
    },
    {
      "cell_type": "markdown",
      "metadata": {
        "id": "FVwxL16TdrNs"
      },
      "source": [
        "\n",
        "2.\n",
        "평균이 0 이고, 표준편차가 1인 3*3 난수 정규분포를 생성\n"
      ]
    },
    {
      "cell_type": "code",
      "metadata": {
        "colab": {
          "base_uri": "https://localhost:8080/"
        },
        "id": "wY5t0aE0f4M4",
        "outputId": "2e4dfa68-d40e-4a67-dd26-e5c4a958763b"
      },
      "source": [
        "y = np.random.normal(0,1,size=(3, 3))\n",
        "y"
      ],
      "execution_count": 19,
      "outputs": [
        {
          "output_type": "execute_result",
          "data": {
            "text/plain": [
              "array([[-2.16598918, -0.38625748, -1.79595784],\n",
              "       [-0.63922692, -0.12036261, -0.83994303],\n",
              "       [-1.31567906,  0.64240695, -0.97268623]])"
            ]
          },
          "metadata": {
            "tags": []
          },
          "execution_count": 19
        }
      ]
    },
    {
      "cell_type": "markdown",
      "metadata": {
        "id": "0tK7IPP4f4lL"
      },
      "source": [
        "\n",
        "3.\n",
        "1부터 12까지의 수로 이루어진 1차원(1*12) -> 2차원(3*4)로 변경\n"
      ]
    },
    {
      "cell_type": "code",
      "metadata": {
        "colab": {
          "base_uri": "https://localhost:8080/"
        },
        "id": "PZ7cy_gLhSfg",
        "outputId": "10d287ec-cb0e-4723-ba3a-4c55358545d3"
      },
      "source": [
        "z = np.arange(1,13)\n",
        "zz = z.reshape(3,4)\n",
        "zz"
      ],
      "execution_count": 23,
      "outputs": [
        {
          "output_type": "execute_result",
          "data": {
            "text/plain": [
              "array([[ 1,  2,  3,  4],\n",
              "       [ 5,  6,  7,  8],\n",
              "       [ 9, 10, 11, 12]])"
            ]
          },
          "metadata": {
            "tags": []
          },
          "execution_count": 23
        }
      ]
    },
    {
      "cell_type": "markdown",
      "metadata": {
        "id": "UOB0kPGihUnO"
      },
      "source": [
        "4.\n",
        "arr = [[1, 2, 3],\n",
        "       [4, 5, 6]]\n",
        "을 사용하여       \n",
        "[[1, 2, 3, 1, 2, 3],\n",
        " [4, 5, 6, 4, 5, 6]]\n",
        "형태로 만들어라\n"
      ]
    },
    {
      "cell_type": "code",
      "metadata": {
        "colab": {
          "base_uri": "https://localhost:8080/"
        },
        "id": "LFvqnLgehSSs",
        "outputId": "dffeb933-331e-45a0-fa5f-dd5685e0fb37"
      },
      "source": [
        "arr = [[1, 2, 3], [4, 5, 6]] \n",
        "arrr = [[arr[0]+arr[0]],[arr[1]+arr[1]]]\n",
        "arrr"
      ],
      "execution_count": 29,
      "outputs": [
        {
          "output_type": "execute_result",
          "data": {
            "text/plain": [
              "[[[1, 2, 3, 1, 2, 3]], [[4, 5, 6, 4, 5, 6]]]"
            ]
          },
          "metadata": {
            "tags": []
          },
          "execution_count": 29
        }
      ]
    },
    {
      "cell_type": "markdown",
      "metadata": {
        "id": "s3wFgXdohpcl"
      },
      "source": [
        "arr2 =\n",
        "[[1, 2, 3],\n",
        " [2, 2, 2],\n",
        " [3, 2, 1]]\n",
        "\n",
        "\n",
        "6. arr2 각 행을 더한 1차원 배열 생성\n",
        "7. arr2 각 열별 [최대값, 최솟값] 배열 생성"
      ]
    },
    {
      "cell_type": "code",
      "metadata": {
        "colab": {
          "base_uri": "https://localhost:8080/"
        },
        "id": "pZFT_buzhR_M",
        "outputId": "e53110d7-7606-4cb9-b08e-eb4565573652"
      },
      "source": [
        "arr2 = [[1, 2, 3], [2, 2, 2], [3, 2, 1]]\n",
        "arrr2 = np.array(arr2[0]) + np.array(arr2[1]) + np.array(arr2[2])\n",
        "print(arrr2)\n",
        "arrrr2 = np.sum(arr2, axis = 1)\n",
        "print(arrrr2)"
      ],
      "execution_count": 40,
      "outputs": [
        {
          "output_type": "stream",
          "text": [
            "[6 6 6]\n",
            "[6 6 6]\n"
          ],
          "name": "stdout"
        }
      ]
    },
    {
      "cell_type": "markdown",
      "metadata": {
        "id": "p-XfY8y-iJ-U"
      },
      "source": [
        "\n",
        "8. 0 부터 1까지를 5개로 나누어 출력하라. (ex) [0, 0.25, 0.5, 0.75, 1] )\n"
      ]
    },
    {
      "cell_type": "code",
      "metadata": {
        "colab": {
          "base_uri": "https://localhost:8080/"
        },
        "id": "if9VaxbjiJms",
        "outputId": "6465095e-87ce-42b4-af9e-a133d186712d"
      },
      "source": [
        "arr3 = np.linspace(0, 1, 5)\n",
        "arr3"
      ],
      "execution_count": 43,
      "outputs": [
        {
          "output_type": "execute_result",
          "data": {
            "text/plain": [
              "array([0.  , 0.25, 0.5 , 0.75, 1.  ])"
            ]
          },
          "metadata": {
            "tags": []
          },
          "execution_count": 43
        }
      ]
    },
    {
      "cell_type": "markdown",
      "metadata": {
        "id": "8_1nCIbkiZZ2"
      },
      "source": [
        "df1 = pd.DataFrame([[1, 2, 3], [4, 5, 6], [np.nan, 7, 8], [10, np.nan, 12]])\n",
        "\n",
        "9. df1에서 NaN값이 있는 행을 제거하여 출력\n",
        "10. df1에서 NaN값을 평균으로 대체하여 출력\n"
      ]
    },
    {
      "cell_type": "code",
      "metadata": {
        "colab": {
          "base_uri": "https://localhost:8080/"
        },
        "id": "aL8wcs-qlZP5",
        "outputId": "03544702-e95d-4e70-8bcb-10461d958cb4"
      },
      "source": [
        "import pandas as pd\n",
        "from pandas import DataFrame as df\n",
        "\n",
        "df1 = pd.DataFrame([[1, 2, 3], [4, 5, 6], [np.nan, 7, 8], [10, np.nan, 12]])\n",
        "drop_df1 = df1.dropna(axis =0)\n",
        "print(drop_df1)\n",
        "drop_df11 = df1.fillna(df1.mean())\n",
        "print(drop_df11)"
      ],
      "execution_count": 56,
      "outputs": [
        {
          "output_type": "stream",
          "text": [
            "     0    1  2\n",
            "0  1.0  2.0  3\n",
            "1  4.0  5.0  6\n",
            "      0         1   2\n",
            "0   1.0  2.000000   3\n",
            "1   4.0  5.000000   6\n",
            "2   5.0  7.000000   8\n",
            "3  10.0  4.666667  12\n"
          ],
          "name": "stdout"
        }
      ]
    },
    {
      "cell_type": "markdown",
      "metadata": {
        "id": "R5iKj0SYlYum"
      },
      "source": [
        "\n",
        "\n",
        "df2 = pd.DataFrame({'name': ['이순신', '강감찬', '을지문덕', '김유신'], 'dept': ['연구개발', '영업', '연구개발', '인사']})\n",
        "                    \n",
        "df3 = pd.DataFrame({'emp_name': ['이순신', '강감찬', '을지문덕', '김유신'], 'project': ['S', 'D', 'A', 'S']})\n",
        "\n",
        "\n",
        "11. df2와 df3 을 df2의 name과 df3의 emp_name을 사용하여 inner Join\n",
        "12. df2와 df3 을 df2의 name과 df3의 emp_name을 사용하여 outer Join \n",
        "\n"
      ]
    },
    {
      "cell_type": "code",
      "metadata": {
        "colab": {
          "base_uri": "https://localhost:8080/"
        },
        "id": "8cgDhAf_mvNJ",
        "outputId": "feda9ce9-bf4d-477a-f558-a227ab78ed07"
      },
      "source": [
        "df2 = pd.DataFrame({'name': ['이순신', '강감찬', '을지문덕', '김유신'], 'dept': ['연구개발', '영업', '연구개발', '인사']})      \n",
        "df3 = pd.DataFrame({'emp_name': ['이순신', '강감찬', '을지문', '김유신'], 'project': ['S', 'D', 'A', 'S']})\n",
        "\n",
        "df_inner = pd.merge(df2, df3 , left_on = 'name', right_on = 'emp_name', how = 'inner')\n",
        "print(df_inner)\n",
        "\n",
        "df_outer = pd.merge(df2, df3 , left_on = 'name', right_on = 'emp_name', how = 'outer')\n",
        "print(df_outer)"
      ],
      "execution_count": 57,
      "outputs": [
        {
          "output_type": "stream",
          "text": [
            "  name  dept emp_name project\n",
            "0  이순신  연구개발      이순신       S\n",
            "1  강감찬    영업      강감찬       D\n",
            "2  김유신    인사      김유신       S\n",
            "   name  dept emp_name project\n",
            "0   이순신  연구개발      이순신       S\n",
            "1   강감찬    영업      강감찬       D\n",
            "2  을지문덕  연구개발      NaN     NaN\n",
            "3   김유신    인사      김유신       S\n",
            "4   NaN   NaN      을지문       A\n"
          ],
          "name": "stdout"
        }
      ]
    },
    {
      "cell_type": "markdown",
      "metadata": {
        "id": "yWwTIfQImvAx"
      },
      "source": [
        "\\\n",
        "seaborn 타이타닉 데이터 셋을 사용\n",
        "import seaborn as sb\n",
        "titanic = sb.load_dataset(\"titanic\")\n",
        "\n",
        "\n",
        "13. 성별을 그룹화하여, 각 성별 생존여부 평균을 구하라.\n",
        "14. 성별(행)과 클래스(열)로 그룹화하여, 생존여부 평균을 구하라."
      ]
    },
    {
      "cell_type": "code",
      "metadata": {
        "colab": {
          "base_uri": "https://localhost:8080/",
          "height": 402
        },
        "id": "3KlH8IApmwom",
        "outputId": "f9c809da-130a-435c-cddf-08920d4e8bac"
      },
      "source": [
        "import seaborn as sb\n",
        "titanic = sb.load_dataset(\"titanic\")\n",
        "titanic"
      ],
      "execution_count": 59,
      "outputs": [
        {
          "output_type": "execute_result",
          "data": {
            "text/html": [
              "<div>\n",
              "<style scoped>\n",
              "    .dataframe tbody tr th:only-of-type {\n",
              "        vertical-align: middle;\n",
              "    }\n",
              "\n",
              "    .dataframe tbody tr th {\n",
              "        vertical-align: top;\n",
              "    }\n",
              "\n",
              "    .dataframe thead th {\n",
              "        text-align: right;\n",
              "    }\n",
              "</style>\n",
              "<table border=\"1\" class=\"dataframe\">\n",
              "  <thead>\n",
              "    <tr style=\"text-align: right;\">\n",
              "      <th></th>\n",
              "      <th>survived</th>\n",
              "      <th>pclass</th>\n",
              "      <th>sex</th>\n",
              "      <th>age</th>\n",
              "      <th>sibsp</th>\n",
              "      <th>parch</th>\n",
              "      <th>fare</th>\n",
              "      <th>embarked</th>\n",
              "      <th>class</th>\n",
              "      <th>who</th>\n",
              "      <th>adult_male</th>\n",
              "      <th>deck</th>\n",
              "      <th>embark_town</th>\n",
              "      <th>alive</th>\n",
              "      <th>alone</th>\n",
              "    </tr>\n",
              "  </thead>\n",
              "  <tbody>\n",
              "    <tr>\n",
              "      <th>0</th>\n",
              "      <td>0</td>\n",
              "      <td>3</td>\n",
              "      <td>male</td>\n",
              "      <td>22.0</td>\n",
              "      <td>1</td>\n",
              "      <td>0</td>\n",
              "      <td>7.2500</td>\n",
              "      <td>S</td>\n",
              "      <td>Third</td>\n",
              "      <td>man</td>\n",
              "      <td>True</td>\n",
              "      <td>NaN</td>\n",
              "      <td>Southampton</td>\n",
              "      <td>no</td>\n",
              "      <td>False</td>\n",
              "    </tr>\n",
              "    <tr>\n",
              "      <th>1</th>\n",
              "      <td>1</td>\n",
              "      <td>1</td>\n",
              "      <td>female</td>\n",
              "      <td>38.0</td>\n",
              "      <td>1</td>\n",
              "      <td>0</td>\n",
              "      <td>71.2833</td>\n",
              "      <td>C</td>\n",
              "      <td>First</td>\n",
              "      <td>woman</td>\n",
              "      <td>False</td>\n",
              "      <td>C</td>\n",
              "      <td>Cherbourg</td>\n",
              "      <td>yes</td>\n",
              "      <td>False</td>\n",
              "    </tr>\n",
              "    <tr>\n",
              "      <th>2</th>\n",
              "      <td>1</td>\n",
              "      <td>3</td>\n",
              "      <td>female</td>\n",
              "      <td>26.0</td>\n",
              "      <td>0</td>\n",
              "      <td>0</td>\n",
              "      <td>7.9250</td>\n",
              "      <td>S</td>\n",
              "      <td>Third</td>\n",
              "      <td>woman</td>\n",
              "      <td>False</td>\n",
              "      <td>NaN</td>\n",
              "      <td>Southampton</td>\n",
              "      <td>yes</td>\n",
              "      <td>True</td>\n",
              "    </tr>\n",
              "    <tr>\n",
              "      <th>3</th>\n",
              "      <td>1</td>\n",
              "      <td>1</td>\n",
              "      <td>female</td>\n",
              "      <td>35.0</td>\n",
              "      <td>1</td>\n",
              "      <td>0</td>\n",
              "      <td>53.1000</td>\n",
              "      <td>S</td>\n",
              "      <td>First</td>\n",
              "      <td>woman</td>\n",
              "      <td>False</td>\n",
              "      <td>C</td>\n",
              "      <td>Southampton</td>\n",
              "      <td>yes</td>\n",
              "      <td>False</td>\n",
              "    </tr>\n",
              "    <tr>\n",
              "      <th>4</th>\n",
              "      <td>0</td>\n",
              "      <td>3</td>\n",
              "      <td>male</td>\n",
              "      <td>35.0</td>\n",
              "      <td>0</td>\n",
              "      <td>0</td>\n",
              "      <td>8.0500</td>\n",
              "      <td>S</td>\n",
              "      <td>Third</td>\n",
              "      <td>man</td>\n",
              "      <td>True</td>\n",
              "      <td>NaN</td>\n",
              "      <td>Southampton</td>\n",
              "      <td>no</td>\n",
              "      <td>True</td>\n",
              "    </tr>\n",
              "    <tr>\n",
              "      <th>...</th>\n",
              "      <td>...</td>\n",
              "      <td>...</td>\n",
              "      <td>...</td>\n",
              "      <td>...</td>\n",
              "      <td>...</td>\n",
              "      <td>...</td>\n",
              "      <td>...</td>\n",
              "      <td>...</td>\n",
              "      <td>...</td>\n",
              "      <td>...</td>\n",
              "      <td>...</td>\n",
              "      <td>...</td>\n",
              "      <td>...</td>\n",
              "      <td>...</td>\n",
              "      <td>...</td>\n",
              "    </tr>\n",
              "    <tr>\n",
              "      <th>886</th>\n",
              "      <td>0</td>\n",
              "      <td>2</td>\n",
              "      <td>male</td>\n",
              "      <td>27.0</td>\n",
              "      <td>0</td>\n",
              "      <td>0</td>\n",
              "      <td>13.0000</td>\n",
              "      <td>S</td>\n",
              "      <td>Second</td>\n",
              "      <td>man</td>\n",
              "      <td>True</td>\n",
              "      <td>NaN</td>\n",
              "      <td>Southampton</td>\n",
              "      <td>no</td>\n",
              "      <td>True</td>\n",
              "    </tr>\n",
              "    <tr>\n",
              "      <th>887</th>\n",
              "      <td>1</td>\n",
              "      <td>1</td>\n",
              "      <td>female</td>\n",
              "      <td>19.0</td>\n",
              "      <td>0</td>\n",
              "      <td>0</td>\n",
              "      <td>30.0000</td>\n",
              "      <td>S</td>\n",
              "      <td>First</td>\n",
              "      <td>woman</td>\n",
              "      <td>False</td>\n",
              "      <td>B</td>\n",
              "      <td>Southampton</td>\n",
              "      <td>yes</td>\n",
              "      <td>True</td>\n",
              "    </tr>\n",
              "    <tr>\n",
              "      <th>888</th>\n",
              "      <td>0</td>\n",
              "      <td>3</td>\n",
              "      <td>female</td>\n",
              "      <td>NaN</td>\n",
              "      <td>1</td>\n",
              "      <td>2</td>\n",
              "      <td>23.4500</td>\n",
              "      <td>S</td>\n",
              "      <td>Third</td>\n",
              "      <td>woman</td>\n",
              "      <td>False</td>\n",
              "      <td>NaN</td>\n",
              "      <td>Southampton</td>\n",
              "      <td>no</td>\n",
              "      <td>False</td>\n",
              "    </tr>\n",
              "    <tr>\n",
              "      <th>889</th>\n",
              "      <td>1</td>\n",
              "      <td>1</td>\n",
              "      <td>male</td>\n",
              "      <td>26.0</td>\n",
              "      <td>0</td>\n",
              "      <td>0</td>\n",
              "      <td>30.0000</td>\n",
              "      <td>C</td>\n",
              "      <td>First</td>\n",
              "      <td>man</td>\n",
              "      <td>True</td>\n",
              "      <td>C</td>\n",
              "      <td>Cherbourg</td>\n",
              "      <td>yes</td>\n",
              "      <td>True</td>\n",
              "    </tr>\n",
              "    <tr>\n",
              "      <th>890</th>\n",
              "      <td>0</td>\n",
              "      <td>3</td>\n",
              "      <td>male</td>\n",
              "      <td>32.0</td>\n",
              "      <td>0</td>\n",
              "      <td>0</td>\n",
              "      <td>7.7500</td>\n",
              "      <td>Q</td>\n",
              "      <td>Third</td>\n",
              "      <td>man</td>\n",
              "      <td>True</td>\n",
              "      <td>NaN</td>\n",
              "      <td>Queenstown</td>\n",
              "      <td>no</td>\n",
              "      <td>True</td>\n",
              "    </tr>\n",
              "  </tbody>\n",
              "</table>\n",
              "<p>891 rows × 15 columns</p>\n",
              "</div>"
            ],
            "text/plain": [
              "     survived  pclass     sex   age  ...  deck  embark_town  alive  alone\n",
              "0           0       3    male  22.0  ...   NaN  Southampton     no  False\n",
              "1           1       1  female  38.0  ...     C    Cherbourg    yes  False\n",
              "2           1       3  female  26.0  ...   NaN  Southampton    yes   True\n",
              "3           1       1  female  35.0  ...     C  Southampton    yes  False\n",
              "4           0       3    male  35.0  ...   NaN  Southampton     no   True\n",
              "..        ...     ...     ...   ...  ...   ...          ...    ...    ...\n",
              "886         0       2    male  27.0  ...   NaN  Southampton     no   True\n",
              "887         1       1  female  19.0  ...     B  Southampton    yes   True\n",
              "888         0       3  female   NaN  ...   NaN  Southampton     no  False\n",
              "889         1       1    male  26.0  ...     C    Cherbourg    yes   True\n",
              "890         0       3    male  32.0  ...   NaN   Queenstown     no   True\n",
              "\n",
              "[891 rows x 15 columns]"
            ]
          },
          "metadata": {
            "tags": []
          },
          "execution_count": 59
        }
      ]
    },
    {
      "cell_type": "code",
      "metadata": {
        "colab": {
          "base_uri": "https://localhost:8080/"
        },
        "id": "rWa8WGlOoDev",
        "outputId": "8139ac56-14a1-4cb1-83e8-9b42d95969cb"
      },
      "source": [
        "titanic_sex = titanic.groupby(['sex'])\n",
        "print(titanic_sex['survived'].mean())"
      ],
      "execution_count": 66,
      "outputs": [
        {
          "output_type": "stream",
          "text": [
            "sex\n",
            "female    0.742038\n",
            "male      0.188908\n",
            "Name: survived, dtype: float64\n"
          ],
          "name": "stdout"
        }
      ]
    },
    {
      "cell_type": "code",
      "metadata": {
        "colab": {
          "base_uri": "https://localhost:8080/"
        },
        "id": "h54-_OsQoclu",
        "outputId": "697047ba-6b39-4d8a-d450-a007e9c44795"
      },
      "source": [
        "titanic_sexclass = titanic.groupby(['sex','class'])\n",
        "print(titanic_sexclass['survived'].mean())"
      ],
      "execution_count": 67,
      "outputs": [
        {
          "output_type": "stream",
          "text": [
            "sex     class \n",
            "female  First     0.968085\n",
            "        Second    0.921053\n",
            "        Third     0.500000\n",
            "male    First     0.368852\n",
            "        Second    0.157407\n",
            "        Third     0.135447\n",
            "Name: survived, dtype: float64\n"
          ],
          "name": "stdout"
        }
      ]
    }
  ]
}